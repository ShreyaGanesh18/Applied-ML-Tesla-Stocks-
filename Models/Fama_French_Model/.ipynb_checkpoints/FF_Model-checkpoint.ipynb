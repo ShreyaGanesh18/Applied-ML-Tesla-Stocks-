{
 "cells": [
  {
   "cell_type": "markdown",
   "metadata": {},
   "source": [
    "![title](Images\\Tesla.png)"
   ]
  },
  {
   "cell_type": "code",
   "execution_count": 103,
   "metadata": {},
   "outputs": [
    {
     "data": {
      "text/html": [
       "<script>\n",
       "code_show=true; \n",
       "function code_toggle() {\n",
       " if (code_show){\n",
       " $('div.input').hide();\n",
       " } else {\n",
       " $('div.input').show();\n",
       " }\n",
       " code_show = !code_show\n",
       "} \n",
       "$( document ).ready(code_toggle);\n",
       "</script>\n",
       "The raw code for this IPython notebook is by default hidden for easier reading.\n",
       "To toggle on/off the raw code, click <a href=\"javascript:code_toggle()\">here</a>."
      ],
      "text/plain": [
       "<IPython.core.display.HTML object>"
      ]
     },
     "execution_count": 103,
     "metadata": {},
     "output_type": "execute_result"
    }
   ],
   "source": [
    "from IPython.display import HTML\n",
    "HTML('''<script>\n",
    "code_show=true; \n",
    "function code_toggle() {\n",
    " if (code_show){\n",
    " $('div.input').hide();\n",
    " } else {\n",
    " $('div.input').show();\n",
    " }\n",
    " code_show = !code_show\n",
    "} \n",
    "$( document ).ready(code_toggle);\n",
    "</script>\n",
    "The raw code for this IPython notebook is by default hidden for easier reading.\n",
    "To toggle on/off the raw code, click <a href=\"javascript:code_toggle()\">here</a>.''')"
   ]
  },
  {
   "cell_type": "markdown",
   "metadata": {},
   "source": [
    "# <p style=\"text-align: center;\"> Table of Contents </p> <a id='TableOfContents'></a>\n",
    "- ## 1. [Introduction](#Introduction)\n",
    "   - ### 1.2 [Importing Libraries](#importing_libraries)\n",
    "   - ### 1.3 [Data Extraction Functions](#data_extraction)\n",
    "   - ### 1.4 [Dataset Summary](#dataset_summary)\n",
    "   - ### 1.5 [Dataset Cleaning](#dataset_cleaning)\n",
    "   - ### 1.6 [Calculating Tesla Daily Returns](#TSLA_Daily_Returns)\n",
    "   - ### 1.7 [Formatting Data](#formatting_fama-french_data)\n",
    "- ## 2. [EDA](#EDA)\n",
    "   - ### 2.1 [Tesla Adjusted Price Data Plot](#TSLA_Adj_Price_Data_plot)\n",
    "   - ### 2.2 [Tesla Daily Returns Plot](#TSLA_Daily_Returns_plot)\n",
    "- ## 3. [Fama-French Regression](#Fama-French_Regression)\n",
    "   - ### 3.1 [Merging both the Dataframes](#Merging_Dataframes)\n",
    "   - ### 3.2 [Defining Variables](#Defining_Variables)\n",
    "   - ### 3.3 [Linear Regression](#Linear_Regression)   \n",
    "   - ### 3.4 [Regression Statistics](#RegressionStats1)     \n",
    "   - ### 3.5 [Regression Statistics of Statsmodel Library](#RegressionStats2)  \n",
    "- ## 4. [Conclusion](#Conclusion)\n",
    "- ## 5. [Contribution](#Contribution)\n",
    "- ## 6. [Citation](#Citation)\n",
    "- ## 7. [License](#License)"
   ]
  },
  {
   "cell_type": "markdown",
   "metadata": {},
   "source": [
    "# <p style=\"text-align: center;\"> 1.0 Introduction </p> <a id='Introduction'></a>\n",
    "The Fama and French Three-Factor Model (or the Fama French Model for short) is an asset pricing model developed in 1992 that expands on the capital asset pricing model (CAPM) by adding size risk and value risk factors to the market risk factor in CAPM.\n",
    "\n",
    "### The Fama-French model aims to describe stock returns through three factors: \n",
    "- Market risk\n",
    "- The outperformance of small-cap companies relative to large-cap companies \n",
    "- The outperformance of high book-to-market value companies versus low book-to-market value companies. \n",
    "\n",
    "The rationale behind the model is that high value and small-cap companies tend to regularly outperform the overall market.\n",
    "\n",
    "### The reasons why Fama- French is popular \n",
    "- The Fama-French three-factor model is an expansion of the Capital Asset Pricing Model (CAPM). Thus it is very easy to implement.\n",
    "- The model is adjusted for outperformance tendencies and typically a better fit to the data points than you get with CAPM\n",
    "- Two extra risk factors make the model more flexible relative to CAPM.\n",
    "- Fama and French can explain the majority of diversified portfolio returns 90% of it to be exact, where the original CAPM described just 70% of diversified portfolio returns.\n",
    "\n",
    "[Back to top](#TableOfContents)"
   ]
  },
  {
   "cell_type": "markdown",
   "metadata": {},
   "source": [
    "# 1.2 Importing Libraries <a id='importing_libraries'></a>\n",
    "\n",
    "In this step, we import libraries that we need for this notebook. A few basic libraries like numpy, pandas, matplotlib etc are used. Other libraries like tweepy, json, csv are used to collect data from twitter and save them as a json and csv file. Advertool helps us analyze our metadata and nltk helps us with the natural language processing.\n",
    "\n",
    "[Back to top](#TableOfContents)"
   ]
  },
  {
   "cell_type": "code",
   "execution_count": 3,
   "metadata": {},
   "outputs": [],
   "source": [
    "#Basic Python arrays and dataframe\n",
    "import numpy as np\n",
    "import pandas as pd\n",
    "from pandas_datareader import DataReader\n",
    "\n",
    "#linear Algebra in Numpy\n",
    "import numpy.linalg as la\n",
    "\n",
    "#Scientific computing and Technical computing\n",
    "from scipy import stats\n",
    "import scipy.stats as ss\n",
    "\n",
    "#Datetime\n",
    "from datetime import datetime\n",
    "\n",
    "#Plotting and visualization\n",
    "import matplotlib.pyplot as plt\n",
    "\n",
    "# OLS Regressor library\n",
    "import statsmodels.api as smf\n",
    "\n",
    "#Ignoring Warnings\n",
    "np.warnings.filterwarnings('ignore')\n",
    "\n",
    "#\n",
    "from sklearn import datasets, linear_model\n",
    "from sklearn.linear_model import LinearRegression"
   ]
  },
  {
   "cell_type": "markdown",
   "metadata": {},
   "source": [
    "# 1.3 Data Extraction Functions <a id='data_extraction'></a>\n",
    "We extract Tesla's stock prices from Yahoo Finance for the calendar year of 2019.\n",
    "We also extract Fama French's Data\n",
    "\n",
    "[Back to top](#TableOfContents)"
   ]
  },
  {
   "cell_type": "code",
   "execution_count": 6,
   "metadata": {},
   "outputs": [],
   "source": [
    "TSLA = DataReader('TSLA', 'yahoo', datetime(2019,1,1), datetime(2019,12,31));"
   ]
  },
  {
   "cell_type": "code",
   "execution_count": 308,
   "metadata": {},
   "outputs": [],
   "source": [
    "ff_factors = pd.read_csv('CSV_Files\\F-F_Research_Data_Factors_daily.csv', skiprows = 3, index_col = 0)"
   ]
  },
  {
   "cell_type": "markdown",
   "metadata": {},
   "source": [
    "# 1.4 Dataset Summary <a id='dataset_summary'></a>\n",
    "Here we are looking at the top 5 rows of the dataset to view, what type of dataset it is. We also look at the columns which show the various attributes in the dataset.\n",
    "\n",
    "[Back to top](#TableOfContents)"
   ]
  },
  {
   "cell_type": "code",
   "execution_count": 309,
   "metadata": {},
   "outputs": [
    {
     "data": {
      "text/html": [
       "<div>\n",
       "<style scoped>\n",
       "    .dataframe tbody tr th:only-of-type {\n",
       "        vertical-align: middle;\n",
       "    }\n",
       "\n",
       "    .dataframe tbody tr th {\n",
       "        vertical-align: top;\n",
       "    }\n",
       "\n",
       "    .dataframe thead th {\n",
       "        text-align: right;\n",
       "    }\n",
       "</style>\n",
       "<table border=\"1\" class=\"dataframe\">\n",
       "  <thead>\n",
       "    <tr style=\"text-align: right;\">\n",
       "      <th></th>\n",
       "      <th>High</th>\n",
       "      <th>Low</th>\n",
       "      <th>Open</th>\n",
       "      <th>Close</th>\n",
       "      <th>Volume</th>\n",
       "      <th>Adj Close</th>\n",
       "    </tr>\n",
       "    <tr>\n",
       "      <th>Date</th>\n",
       "      <th></th>\n",
       "      <th></th>\n",
       "      <th></th>\n",
       "      <th></th>\n",
       "      <th></th>\n",
       "      <th></th>\n",
       "    </tr>\n",
       "  </thead>\n",
       "  <tbody>\n",
       "    <tr>\n",
       "      <th>2015-01-02</th>\n",
       "      <td>223.250000</td>\n",
       "      <td>213.259995</td>\n",
       "      <td>222.869995</td>\n",
       "      <td>219.309998</td>\n",
       "      <td>4764400</td>\n",
       "      <td>219.309998</td>\n",
       "    </tr>\n",
       "    <tr>\n",
       "      <th>2015-01-05</th>\n",
       "      <td>216.500000</td>\n",
       "      <td>207.160004</td>\n",
       "      <td>214.550003</td>\n",
       "      <td>210.089996</td>\n",
       "      <td>5368500</td>\n",
       "      <td>210.089996</td>\n",
       "    </tr>\n",
       "    <tr>\n",
       "      <th>2015-01-06</th>\n",
       "      <td>214.199997</td>\n",
       "      <td>204.210007</td>\n",
       "      <td>210.059998</td>\n",
       "      <td>211.279999</td>\n",
       "      <td>6261900</td>\n",
       "      <td>211.279999</td>\n",
       "    </tr>\n",
       "    <tr>\n",
       "      <th>2015-01-07</th>\n",
       "      <td>214.779999</td>\n",
       "      <td>209.779999</td>\n",
       "      <td>213.350006</td>\n",
       "      <td>210.949997</td>\n",
       "      <td>2968400</td>\n",
       "      <td>210.949997</td>\n",
       "    </tr>\n",
       "    <tr>\n",
       "      <th>2015-01-08</th>\n",
       "      <td>213.800003</td>\n",
       "      <td>210.009995</td>\n",
       "      <td>212.809998</td>\n",
       "      <td>210.619995</td>\n",
       "      <td>3442500</td>\n",
       "      <td>210.619995</td>\n",
       "    </tr>\n",
       "  </tbody>\n",
       "</table>\n",
       "</div>"
      ],
      "text/plain": [
       "                  High         Low        Open       Close   Volume  \\\n",
       "Date                                                                  \n",
       "2015-01-02  223.250000  213.259995  222.869995  219.309998  4764400   \n",
       "2015-01-05  216.500000  207.160004  214.550003  210.089996  5368500   \n",
       "2015-01-06  214.199997  204.210007  210.059998  211.279999  6261900   \n",
       "2015-01-07  214.779999  209.779999  213.350006  210.949997  2968400   \n",
       "2015-01-08  213.800003  210.009995  212.809998  210.619995  3442500   \n",
       "\n",
       "             Adj Close  \n",
       "Date                    \n",
       "2015-01-02  219.309998  \n",
       "2015-01-05  210.089996  \n",
       "2015-01-06  211.279999  \n",
       "2015-01-07  210.949997  \n",
       "2015-01-08  210.619995  "
      ]
     },
     "execution_count": 309,
     "metadata": {},
     "output_type": "execute_result"
    }
   ],
   "source": [
    "TSLA.head()"
   ]
  },
  {
   "cell_type": "code",
   "execution_count": 310,
   "metadata": {
    "scrolled": false
   },
   "outputs": [
    {
     "data": {
      "text/html": [
       "<div>\n",
       "<style scoped>\n",
       "    .dataframe tbody tr th:only-of-type {\n",
       "        vertical-align: middle;\n",
       "    }\n",
       "\n",
       "    .dataframe tbody tr th {\n",
       "        vertical-align: top;\n",
       "    }\n",
       "\n",
       "    .dataframe thead th {\n",
       "        text-align: right;\n",
       "    }\n",
       "</style>\n",
       "<table border=\"1\" class=\"dataframe\">\n",
       "  <thead>\n",
       "    <tr style=\"text-align: right;\">\n",
       "      <th></th>\n",
       "      <th>Mkt-RF</th>\n",
       "      <th>SMB</th>\n",
       "      <th>HML</th>\n",
       "      <th>RF</th>\n",
       "    </tr>\n",
       "  </thead>\n",
       "  <tbody>\n",
       "    <tr>\n",
       "      <th>19260701</th>\n",
       "      <td>0.10</td>\n",
       "      <td>-0.24</td>\n",
       "      <td>-0.28</td>\n",
       "      <td>0.009</td>\n",
       "    </tr>\n",
       "    <tr>\n",
       "      <th>19260702</th>\n",
       "      <td>0.45</td>\n",
       "      <td>-0.32</td>\n",
       "      <td>-0.08</td>\n",
       "      <td>0.009</td>\n",
       "    </tr>\n",
       "    <tr>\n",
       "      <th>19260706</th>\n",
       "      <td>0.17</td>\n",
       "      <td>0.27</td>\n",
       "      <td>-0.35</td>\n",
       "      <td>0.009</td>\n",
       "    </tr>\n",
       "    <tr>\n",
       "      <th>19260707</th>\n",
       "      <td>0.09</td>\n",
       "      <td>-0.59</td>\n",
       "      <td>0.03</td>\n",
       "      <td>0.009</td>\n",
       "    </tr>\n",
       "    <tr>\n",
       "      <th>19260708</th>\n",
       "      <td>0.21</td>\n",
       "      <td>-0.36</td>\n",
       "      <td>0.15</td>\n",
       "      <td>0.009</td>\n",
       "    </tr>\n",
       "  </tbody>\n",
       "</table>\n",
       "</div>"
      ],
      "text/plain": [
       "          Mkt-RF   SMB   HML     RF\n",
       "19260701    0.10 -0.24 -0.28  0.009\n",
       "19260702    0.45 -0.32 -0.08  0.009\n",
       "19260706    0.17  0.27 -0.35  0.009\n",
       "19260707    0.09 -0.59  0.03  0.009\n",
       "19260708    0.21 -0.36  0.15  0.009"
      ]
     },
     "execution_count": 310,
     "metadata": {},
     "output_type": "execute_result"
    }
   ],
   "source": [
    "ff_factors.head()"
   ]
  },
  {
   "cell_type": "markdown",
   "metadata": {},
   "source": [
    "### Statistical Analysis\n",
    "Here we are running basic Statistical analysis on the given data to find any abnormal values in the dataset first on Tesla Dataset and then on Fama-French Dataset"
   ]
  },
  {
   "cell_type": "markdown",
   "metadata": {},
   "source": [
    "### Tesla"
   ]
  },
  {
   "cell_type": "code",
   "execution_count": 311,
   "metadata": {
    "scrolled": true
   },
   "outputs": [
    {
     "data": {
      "text/html": [
       "<div>\n",
       "<style scoped>\n",
       "    .dataframe tbody tr th:only-of-type {\n",
       "        vertical-align: middle;\n",
       "    }\n",
       "\n",
       "    .dataframe tbody tr th {\n",
       "        vertical-align: top;\n",
       "    }\n",
       "\n",
       "    .dataframe thead th {\n",
       "        text-align: right;\n",
       "    }\n",
       "</style>\n",
       "<table border=\"1\" class=\"dataframe\">\n",
       "  <thead>\n",
       "    <tr style=\"text-align: right;\">\n",
       "      <th></th>\n",
       "      <th>High</th>\n",
       "      <th>Low</th>\n",
       "      <th>Open</th>\n",
       "      <th>Close</th>\n",
       "      <th>Volume</th>\n",
       "      <th>Adj Close</th>\n",
       "    </tr>\n",
       "  </thead>\n",
       "  <tbody>\n",
       "    <tr>\n",
       "      <th>count</th>\n",
       "      <td>1258.000000</td>\n",
       "      <td>1258.000000</td>\n",
       "      <td>1258.000000</td>\n",
       "      <td>1258.000000</td>\n",
       "      <td>1.258000e+03</td>\n",
       "      <td>1258.000000</td>\n",
       "    </tr>\n",
       "    <tr>\n",
       "      <th>mean</th>\n",
       "      <td>273.245922</td>\n",
       "      <td>264.208847</td>\n",
       "      <td>268.805143</td>\n",
       "      <td>268.918879</td>\n",
       "      <td>6.605984e+06</td>\n",
       "      <td>268.918879</td>\n",
       "    </tr>\n",
       "    <tr>\n",
       "      <th>std</th>\n",
       "      <td>56.924797</td>\n",
       "      <td>55.165422</td>\n",
       "      <td>56.056573</td>\n",
       "      <td>56.139767</td>\n",
       "      <td>4.157315e+06</td>\n",
       "      <td>56.139767</td>\n",
       "    </tr>\n",
       "    <tr>\n",
       "      <th>min</th>\n",
       "      <td>154.970001</td>\n",
       "      <td>141.050003</td>\n",
       "      <td>142.320007</td>\n",
       "      <td>143.669998</td>\n",
       "      <td>7.080000e+05</td>\n",
       "      <td>143.669998</td>\n",
       "    </tr>\n",
       "    <tr>\n",
       "      <th>25%</th>\n",
       "      <td>225.125000</td>\n",
       "      <td>218.032497</td>\n",
       "      <td>221.967506</td>\n",
       "      <td>220.862503</td>\n",
       "      <td>3.995450e+06</td>\n",
       "      <td>220.862503</td>\n",
       "    </tr>\n",
       "    <tr>\n",
       "      <th>50%</th>\n",
       "      <td>262.199997</td>\n",
       "      <td>253.325005</td>\n",
       "      <td>257.615005</td>\n",
       "      <td>257.774994</td>\n",
       "      <td>5.524250e+06</td>\n",
       "      <td>257.774994</td>\n",
       "    </tr>\n",
       "    <tr>\n",
       "      <th>75%</th>\n",
       "      <td>321.977493</td>\n",
       "      <td>310.794998</td>\n",
       "      <td>316.172493</td>\n",
       "      <td>316.677490</td>\n",
       "      <td>7.839625e+06</td>\n",
       "      <td>316.677490</td>\n",
       "    </tr>\n",
       "    <tr>\n",
       "      <th>max</th>\n",
       "      <td>435.309998</td>\n",
       "      <td>426.350006</td>\n",
       "      <td>435.000000</td>\n",
       "      <td>430.940002</td>\n",
       "      <td>3.364970e+07</td>\n",
       "      <td>430.940002</td>\n",
       "    </tr>\n",
       "  </tbody>\n",
       "</table>\n",
       "</div>"
      ],
      "text/plain": [
       "              High          Low         Open        Close        Volume  \\\n",
       "count  1258.000000  1258.000000  1258.000000  1258.000000  1.258000e+03   \n",
       "mean    273.245922   264.208847   268.805143   268.918879  6.605984e+06   \n",
       "std      56.924797    55.165422    56.056573    56.139767  4.157315e+06   \n",
       "min     154.970001   141.050003   142.320007   143.669998  7.080000e+05   \n",
       "25%     225.125000   218.032497   221.967506   220.862503  3.995450e+06   \n",
       "50%     262.199997   253.325005   257.615005   257.774994  5.524250e+06   \n",
       "75%     321.977493   310.794998   316.172493   316.677490  7.839625e+06   \n",
       "max     435.309998   426.350006   435.000000   430.940002  3.364970e+07   \n",
       "\n",
       "         Adj Close  \n",
       "count  1258.000000  \n",
       "mean    268.918879  \n",
       "std      56.139767  \n",
       "min     143.669998  \n",
       "25%     220.862503  \n",
       "50%     257.774994  \n",
       "75%     316.677490  \n",
       "max     430.940002  "
      ]
     },
     "execution_count": 311,
     "metadata": {},
     "output_type": "execute_result"
    }
   ],
   "source": [
    "TSLA.describe()"
   ]
  },
  {
   "cell_type": "code",
   "execution_count": 312,
   "metadata": {},
   "outputs": [
    {
     "name": "stdout",
     "output_type": "stream",
     "text": [
      "<class 'pandas.core.frame.DataFrame'>\n",
      "DatetimeIndex: 1258 entries, 2015-01-02 to 2019-12-31\n",
      "Data columns (total 6 columns):\n",
      "High         1258 non-null float64\n",
      "Low          1258 non-null float64\n",
      "Open         1258 non-null float64\n",
      "Close        1258 non-null float64\n",
      "Volume       1258 non-null int64\n",
      "Adj Close    1258 non-null float64\n",
      "dtypes: float64(5), int64(1)\n",
      "memory usage: 68.8 KB\n"
     ]
    }
   ],
   "source": [
    "TSLA.info()"
   ]
  },
  {
   "cell_type": "markdown",
   "metadata": {},
   "source": [
    "### Fama-French"
   ]
  },
  {
   "cell_type": "code",
   "execution_count": 313,
   "metadata": {},
   "outputs": [
    {
     "data": {
      "text/html": [
       "<div>\n",
       "<style scoped>\n",
       "    .dataframe tbody tr th:only-of-type {\n",
       "        vertical-align: middle;\n",
       "    }\n",
       "\n",
       "    .dataframe tbody tr th {\n",
       "        vertical-align: top;\n",
       "    }\n",
       "\n",
       "    .dataframe thead th {\n",
       "        text-align: right;\n",
       "    }\n",
       "</style>\n",
       "<table border=\"1\" class=\"dataframe\">\n",
       "  <thead>\n",
       "    <tr style=\"text-align: right;\">\n",
       "      <th></th>\n",
       "      <th>Mkt-RF</th>\n",
       "      <th>SMB</th>\n",
       "      <th>HML</th>\n",
       "      <th>RF</th>\n",
       "    </tr>\n",
       "  </thead>\n",
       "  <tbody>\n",
       "    <tr>\n",
       "      <th>count</th>\n",
       "      <td>24664.000000</td>\n",
       "      <td>24664.000000</td>\n",
       "      <td>24664.000000</td>\n",
       "      <td>24664.000000</td>\n",
       "    </tr>\n",
       "    <tr>\n",
       "      <th>mean</th>\n",
       "      <td>0.029485</td>\n",
       "      <td>0.004483</td>\n",
       "      <td>0.014894</td>\n",
       "      <td>0.012381</td>\n",
       "    </tr>\n",
       "    <tr>\n",
       "      <th>std</th>\n",
       "      <td>1.060902</td>\n",
       "      <td>0.582478</td>\n",
       "      <td>0.584256</td>\n",
       "      <td>0.011923</td>\n",
       "    </tr>\n",
       "    <tr>\n",
       "      <th>min</th>\n",
       "      <td>-17.440000</td>\n",
       "      <td>-11.620000</td>\n",
       "      <td>-5.980000</td>\n",
       "      <td>-0.003000</td>\n",
       "    </tr>\n",
       "    <tr>\n",
       "      <th>25%</th>\n",
       "      <td>-0.400000</td>\n",
       "      <td>-0.250000</td>\n",
       "      <td>-0.240000</td>\n",
       "      <td>0.001000</td>\n",
       "    </tr>\n",
       "    <tr>\n",
       "      <th>50%</th>\n",
       "      <td>0.060000</td>\n",
       "      <td>0.020000</td>\n",
       "      <td>0.000000</td>\n",
       "      <td>0.010000</td>\n",
       "    </tr>\n",
       "    <tr>\n",
       "      <th>75%</th>\n",
       "      <td>0.490000</td>\n",
       "      <td>0.270000</td>\n",
       "      <td>0.260000</td>\n",
       "      <td>0.020000</td>\n",
       "    </tr>\n",
       "    <tr>\n",
       "      <th>max</th>\n",
       "      <td>15.760000</td>\n",
       "      <td>8.210000</td>\n",
       "      <td>8.430000</td>\n",
       "      <td>0.061000</td>\n",
       "    </tr>\n",
       "  </tbody>\n",
       "</table>\n",
       "</div>"
      ],
      "text/plain": [
       "             Mkt-RF           SMB           HML            RF\n",
       "count  24664.000000  24664.000000  24664.000000  24664.000000\n",
       "mean       0.029485      0.004483      0.014894      0.012381\n",
       "std        1.060902      0.582478      0.584256      0.011923\n",
       "min      -17.440000    -11.620000     -5.980000     -0.003000\n",
       "25%       -0.400000     -0.250000     -0.240000      0.001000\n",
       "50%        0.060000      0.020000      0.000000      0.010000\n",
       "75%        0.490000      0.270000      0.260000      0.020000\n",
       "max       15.760000      8.210000      8.430000      0.061000"
      ]
     },
     "execution_count": 313,
     "metadata": {},
     "output_type": "execute_result"
    }
   ],
   "source": [
    "ff_factors.describe()"
   ]
  },
  {
   "cell_type": "code",
   "execution_count": 314,
   "metadata": {},
   "outputs": [
    {
     "name": "stdout",
     "output_type": "stream",
     "text": [
      "<class 'pandas.core.frame.DataFrame'>\n",
      "Index: 24665 entries, 19260701 to Copyright 2020 Kenneth R. French\n",
      "Data columns (total 4 columns):\n",
      "Mkt-RF    24664 non-null float64\n",
      "SMB       24664 non-null float64\n",
      "HML       24664 non-null float64\n",
      "RF        24664 non-null float64\n",
      "dtypes: float64(4)\n",
      "memory usage: 963.5+ KB\n"
     ]
    }
   ],
   "source": [
    "ff_factors.info()"
   ]
  },
  {
   "cell_type": "markdown",
   "metadata": {},
   "source": [
    "#   1.5 Dataset Cleaning  <a id='dataset_cleaning'></a>\n",
    "Next we will check if there are any missing or Null values in the dataset.\n",
    "\n",
    "[Back to top](#TableOfContents)"
   ]
  },
  {
   "cell_type": "code",
   "execution_count": 315,
   "metadata": {
    "scrolled": true
   },
   "outputs": [
    {
     "name": "stdout",
     "output_type": "stream",
     "text": [
      "Are there Null Values in the Tesla dataset? \n"
     ]
    },
    {
     "data": {
      "text/plain": [
       "False"
      ]
     },
     "execution_count": 315,
     "metadata": {},
     "output_type": "execute_result"
    }
   ],
   "source": [
    "print(\"Are there Null Values in the Tesla dataset? \")\n",
    "TSLA.isnull().values.any() "
   ]
  },
  {
   "cell_type": "code",
   "execution_count": 316,
   "metadata": {},
   "outputs": [
    {
     "name": "stdout",
     "output_type": "stream",
     "text": [
      "Are there Null Values in the Fama-French dataset? \n"
     ]
    },
    {
     "data": {
      "text/plain": [
       "True"
      ]
     },
     "execution_count": 316,
     "metadata": {},
     "output_type": "execute_result"
    }
   ],
   "source": [
    "print(\"Are there Null Values in the Fama-French dataset? \")\n",
    "ff_factors.isnull().values.any() "
   ]
  },
  {
   "cell_type": "code",
   "execution_count": 317,
   "metadata": {},
   "outputs": [],
   "source": [
    "# We want to find out the row with NULL value\n",
    "# We will skip these rows\n",
    "ff_row = ff_factors.isnull().any(1).nonzero()[0][0]"
   ]
  },
  {
   "cell_type": "markdown",
   "metadata": {},
   "source": [
    "#   1.6 Calculating Tesla Daily Returns  <a id='TSLA_Daily_Returns'></a>\n",
    "Here we will calculate Tesla's Daily Returns\n",
    "\n",
    "[Back to top](#TableOfContents)"
   ]
  },
  {
   "cell_type": "code",
   "execution_count": 318,
   "metadata": {},
   "outputs": [
    {
     "name": "stdout",
     "output_type": "stream",
     "text": [
      "Date\n",
      "2015-01-02         NaN\n",
      "2015-01-05   -0.042041\n",
      "2015-01-06    0.005664\n",
      "2015-01-07   -0.001562\n",
      "2015-01-08   -0.001564\n",
      "Name: Adj Close, dtype: float64\n"
     ]
    }
   ],
   "source": [
    "tesla_daily_returns = TSLA['Adj Close'].pct_change()\n",
    "print(tesla_daily_returns.head())"
   ]
  },
  {
   "cell_type": "markdown",
   "metadata": {},
   "source": [
    "#   1.7 Formatting Data  <a id='formatting_fama-french_data'></a>\n",
    "Here we will Format the Tesla Dataset and perform some column manipulation function & perform formatting on the Fama-French data further by formatting the date index and converting from percent to decimal.\n",
    "\n",
    "[Back to top](#TableOfContents)"
   ]
  },
  {
   "cell_type": "code",
   "execution_count": 319,
   "metadata": {},
   "outputs": [],
   "source": [
    "ret_data=tesla_daily_returns\n",
    "ret_data = pd.DataFrame(ret_data)\n",
    "    \n",
    "# Rename the Column\n",
    "ret_data.columns = ['portfolio']\n",
    "ret_data.head()\n",
    "\n",
    "# Read the csv file again with skipped rows\n",
    "ff_factors = pd.read_csv('CSV_Files\\F-F_Research_Data_Factors_daily.csv', skiprows = 3, nrows = ff_row, index_col = 0)\n",
    "    \n",
    "# Format the date index\n",
    "ff_factors.index = pd.to_datetime(ff_factors.index, format= '%Y%m%d', errors='ignore')\n",
    "    \n",
    "# Convert from percent to decimal\n",
    "ff_factors = ff_factors.apply(lambda x: x/ 100)\n",
    "ff_data=ff_factors"
   ]
  },
  {
   "cell_type": "markdown",
   "metadata": {},
   "source": [
    "# <p style=\"text-align: center;\"> 2.0 EDA </p> <a id='EDA'></a>\n",
    "Exploratory Data Analysis refers to the critical process of performing initial investigations on data so as to discover patterns,to spot anomalies,to test hypothesis and to check assumptions with the help of summary statistics and graphical representations.\n",
    "\n",
    "It is a good practice to understand the data first and try to gather as many insights from it. EDA is all about making sense of data in hand,before getting them dirty with it.\n",
    "\n",
    "[Back to top](#TableOfContents)"
   ]
  },
  {
   "cell_type": "markdown",
   "metadata": {},
   "source": [
    "#   2.1 Tesla Adjusted Price Data Plot  <a id='TSLA_Adj_Price_Data_plot'></a>"
   ]
  },
  {
   "cell_type": "code",
   "execution_count": 320,
   "metadata": {},
   "outputs": [
    {
     "data": {
      "image/png": "[encoded data removed]",
      "text/plain": [
       "<Figure size 432x288 with 1 Axes>"
      ]
     },
     "metadata": {
      "needs_background": "light"
     },
     "output_type": "display_data"
    }
   ],
   "source": [
    "TSLA['Adj Close'].plot()\n",
    "plt.xlabel(\"Date\")\n",
    "plt.ylabel(\"Adjusted\")\n",
    "plt.title(\"Tesla Price data\")\n",
    "plt.show()"
   ]
  },
  {
   "cell_type": "markdown",
   "metadata": {},
   "source": [
    "#   2.2 Tesla Daily Returns Plot  <a id='TSLA_Daily_Returns_plot'></a>"
   ]
  },
  {
   "cell_type": "code",
   "execution_count": 321,
   "metadata": {},
   "outputs": [
    {
     "data": {
      "image/png": "[encoded data removed]",
      "text/plain": [
       "<Figure size 432x288 with 1 Axes>"
      ]
     },
     "metadata": {
      "needs_background": "light"
     },
     "output_type": "display_data"
    }
   ],
   "source": [
    "fig = plt.figure()\n",
    "ax1 = fig.add_axes([0.1,0.1,0.8,0.8])\n",
    "ax1.plot(tesla_daily_returns)\n",
    "ax1.set_xlabel(\"Date\")\n",
    "ax1.set_ylabel(\"Percent\")\n",
    "ax1.set_title(\"Tesla daily returns data\")\n",
    "plt.show()"
   ]
  },
  {
   "cell_type": "markdown",
   "metadata": {},
   "source": [
    "# <p style=\"text-align: center;\"> 3.0 Fama-French Regression </p> <a id='Fama-French_Regression'></a>\n",
    "\\begin{equation*}\n",
    "E(r_i) = r_f + β_1\\times (r_m - r_f) + β_2\\times(SMB) + β_3\\times(HML) + ε     \n",
    "\\end{equation*}\n",
    "\n",
    "- __E(r<sub>i</sub>)__ -> The expected rate of return\n",
    "- __r<sub>f</sub>__ -> The risk-free rate\n",
    "- __(r<sub>m</sub> - r<sub>f</sub>)__ -> The market risk premium\n",
    "- __SMB(Small Minus Big)__ -> The historic excess returns of small-cap companies over large-cap companies\n",
    "- __HML(High Minus Low)__ -> The historic excess of value stocks(high book-to-price ratio) over the growth stocks (low book-to-price ratio)\n",
    "- __β <sub>1,2,3</sub>__ -> The factor’s Coefficient \n",
    "- __ε__ -> The market risk\n",
    "\n",
    "[Back to top](#TableOfContents)"
   ]
  },
  {
   "cell_type": "markdown",
   "metadata": {},
   "source": [
    "#   3.1 Merging both the Dataframes <a id='Merging_Dataframes'></a>"
   ]
  },
  {
   "cell_type": "code",
   "execution_count": 322,
   "metadata": {},
   "outputs": [
    {
     "name": "stdout",
     "output_type": "stream",
     "text": [
      "            portfolio  mkt_excess     SMB     HML   RF  port_excess\n",
      "Date                                                               \n",
      "2015-01-05  -0.042041     -0.0184  0.0033 -0.0063  0.0    -0.042041\n",
      "2015-01-06   0.005664     -0.0104 -0.0078 -0.0026  0.0     0.005664\n",
      "2015-01-07  -0.001562      0.0119  0.0017 -0.0065  0.0    -0.001562\n",
      "2015-01-08  -0.001564      0.0181 -0.0012 -0.0028  0.0    -0.001564\n",
      "2015-01-09  -0.018802     -0.0085  0.0001 -0.0051  0.0    -0.018802\n"
     ]
    }
   ],
   "source": [
    "# Merging the data\n",
    "all_data = pd.merge(pd.DataFrame(ret_data),ff_data, how = 'inner', left_index= True, right_index= True)\n",
    "\n",
    "# Rename the columns\n",
    "all_data.index.names = ['Date']\n",
    "all_data.rename(columns={\"Mkt-RF\":\"mkt_excess\"} , inplace=True)\n",
    "\n",
    "# Calculate the excess returns\n",
    "all_data['port_excess'] = all_data['portfolio'] - all_data['RF']\n",
    "\n",
    "#drop nulls\n",
    "all_data.dropna(inplace=True)\n",
    "\n",
    "print(all_data.head())"
   ]
  },
  {
   "cell_type": "markdown",
   "metadata": {},
   "source": [
    "#   3.2 Defining Variables <a id='Defining_Variables'></a>"
   ]
  },
  {
   "cell_type": "code",
   "execution_count": 7,
   "metadata": {},
   "outputs": [
    {
     "name": "stdout",
     "output_type": "stream",
     "text": [
      "Kurtosis = 6.517415521775034\n"
     ]
    }
   ],
   "source": [
    "# TSLA['Percentage Returns'] = TSLA['Adj Close'].pct_change()\n",
    "# print ('Kurtosis =', TSLA['Percentage Returns'].kurt())"
   ]
  },
  {
   "cell_type": "code",
   "execution_count": 323,
   "metadata": {},
   "outputs": [
    {
     "name": "stdout",
     "output_type": "stream",
     "text": [
      "X --> \n",
      "             mkt_excess     SMB     HML\n",
      "Date                                  \n",
      "2015-01-05     -0.0184  0.0033 -0.0063\n",
      "2015-01-06     -0.0104 -0.0078 -0.0026\n",
      "2015-01-07      0.0119  0.0017 -0.0065\n",
      "2015-01-08      0.0181 -0.0012 -0.0028\n",
      "2015-01-09     -0.0085  0.0001 -0.0051\n",
      "\n",
      " y --> \n",
      " Date\n",
      "2015-01-05   -0.042041\n",
      "2015-01-06    0.005664\n",
      "2015-01-07   -0.001562\n",
      "2015-01-08   -0.001564\n",
      "2015-01-09   -0.018802\n",
      "Name: port_excess, dtype: float64\n",
      "\n",
      " No. of Observations --> 251\n",
      "\n",
      " Shape of X --> (1257, 3)\n"
     ]
    }
   ],
   "source": [
    "X = all_data.iloc[:,1:4]  \n",
    "y = all_data.iloc[:,5] \n",
    "\n",
    "T=251\n",
    "N=X.shape\n",
    "print('X --> \\n',X.head())\n",
    "print('\\n y --> \\n',y.head())\n",
    "print('\\n No. of Observations -->',T)\n",
    "print('\\n Shape of X -->',N)"
   ]
  },
  {
   "cell_type": "code",
   "execution_count": 324,
   "metadata": {},
   "outputs": [],
   "source": [
    "#formula = \"port_excess ~ mkt_excess + SMB + HML\""
   ]
  },
  {
   "cell_type": "markdown",
   "metadata": {},
   "source": [
    "#   3.3 Linear Regression <a id='Linear_Regression'></a>"
   ]
  },
  {
   "cell_type": "code",
   "execution_count": 325,
   "metadata": {},
   "outputs": [
    {
     "name": "stdout",
     "output_type": "stream",
     "text": [
      "Coefficients --> [ 1.2257335   0.14778783 -0.64118709]\n"
     ]
    }
   ],
   "source": [
    "betahat = la.solve(np.dot(X.T,X), np.dot(X.T,y))\n",
    "print('Coefficients -->', betahat)"
   ]
  },
  {
   "cell_type": "code",
   "execution_count": 326,
   "metadata": {},
   "outputs": [],
   "source": [
    "model = smf.formula.ols(formula = \"port_excess ~ mkt_excess + SMB + HML\", data = all_data).fit()"
   ]
  },
  {
   "cell_type": "markdown",
   "metadata": {},
   "source": [
    "#   3.4 Regression Statistics <a id='RegressionStats1'></a>"
   ]
  },
  {
   "cell_type": "code",
   "execution_count": 327,
   "metadata": {},
   "outputs": [],
   "source": [
    "# invXX = np.linalg.inv(X.transpose()@X)\n",
    "# #'OLS estimator beta: N x 1'\n",
    "# betahat = la.solve(np.dot(X.T,X), np.dot(X.T,y))\n",
    "# # 'Predictive value of Y_t using OLS'  \n",
    "# y_hat = X@betahat;       \n",
    "\n",
    "# # 'Residuals from OLS: Y - X*beta'        \n",
    "# residuals = y - y_hat;          \n",
    "\n",
    "# # 'variance of Y_t or residuals'\n",
    "# sigma2 = (1/T)*(residuals.transpose()@residuals)\n",
    "\n",
    "# # 'standard deviation of Y_t or residuals'\n",
    "# sig = np.sqrt(sigma2) \n",
    "\n",
    "# # 'variance-covariance matrix of beta_hat'\n",
    "# # 'N x N: on-diagnal variance(beta_j)'\n",
    "# # 'N x N: off-diagnal cov(beta_i, beta_j)'\n",
    "# varcov_beta_hat = (sigma2)*invXX\n",
    "# var_beta_hat = np.sqrt(T*np.diag(varcov_beta_hat))\n",
    "\n",
    "# # 'Calculate R-square'\n",
    "# R_square = 1 - residuals.transpose()@residuals/(T*np.var(y))\n",
    "# adj_R_square = 1-(1-R_square)*(T-1)/(T-N[1])\n",
    "\n",
    "# # 'Test Each Coefficient: beta_i'\n",
    "# # 't-test stat: N x 1'\n",
    "# t_stat = betahat.transpose()/var_beta_hat\n",
    "# # ' t-test significance level: N x 1'\n",
    "# p_val_t = 1-ss.norm.cdf(t_stat)\n",
    "\n",
    "# # 'Test of Joint Significance of Model'\n",
    "# F_stat = betahat.transpose()@varcov_beta_hat@betahat/\\\n",
    "#          (residuals.transpose()*residuals)\n",
    "# # 'size: (1 x N)*(N x N)*(N x 1)/((1 x T) * (T x 1)) = 1 x 1'\n",
    "\n",
    "# p_val_F = 1-ss.chi2.cdf(F_stat,T-N[1])\n",
    "\n",
    "# print('------------------------\\n')\n",
    "# print('R-Square is       ',R_square)\n",
    "# print('Adjusted R Square ',adj_R_square)\n",
    "# print('Standard Error    ',sig)\n",
    "# print('Observations      ',T)\n",
    "# print('T_stat      ',t_stat)\n",
    "# print('P_Value      ',p_val_t)\n",
    "# # print('F_Stat      ',p_val_F)\n",
    "# print('-------------------------\\n')"
   ]
  },
  {
   "cell_type": "code",
   "execution_count": 328,
   "metadata": {},
   "outputs": [],
   "source": [
    "lm = LinearRegression()\n",
    "lm.fit(X,y)\n",
    "params = np.append(lm.intercept_,betahat)\n",
    "predictions = lm.predict(X)\n",
    "\n",
    "newX = pd.DataFrame({\"Constant\":np.ones(len(X))}).join(pd.DataFrame(X.reset_index(drop=True)))\n",
    "\n",
    "MSE = (sum((y-predictions)**2))/(len(newX)-len(newX.columns))\n",
    "\n",
    "# Note if you don't want to use a DataFrame replace the two lines above with\n",
    "# newX = np.append(np.ones((len(X),1)), X, axis=1)\n",
    "# MSE = (sum((y-predictions)**2))/(len(newX)-len(newX[0]))\n",
    "\n",
    "var_b = MSE*(np.linalg.inv(np.dot(newX.T,newX)).diagonal())\n",
    "sd_b = np.sqrt(var_b)\n",
    "ts_b = params/ sd_b\n",
    "\n",
    "p_values =[2*(1-stats.t.cdf(np.abs(i),(len(newX)-1))) for i in ts_b]\n",
    "\n",
    "sd_b = np.round(sd_b,3)\n",
    "ts_b = np.round(ts_b,3)\n",
    "p_values = np.round(p_values,3)\n",
    "params = np.round(params,4)\n",
    "\n",
    "myDF3 = pd.DataFrame()\n",
    "myDF3[\"Coefficients\"],myDF3[\"Std Errors\"],myDF3[\"T values\"],myDF3[\"P-Values\"] = [params,sd_b,ts_b,p_values]\n",
    "\n",
    "R_square = 1 - residuals.transpose()@residuals/(T*np.var(y))\n",
    "adj_R_square = 1-(1-R_square)*(T-1)/(T-N[1])"
   ]
  },
  {
   "cell_type": "code",
   "execution_count": 329,
   "metadata": {},
   "outputs": [
    {
     "name": "stdout",
     "output_type": "stream",
     "text": [
      "   Coefficients  Std Errors  T values  P-Values\n",
      "0        0.0002       0.001     0.333     0.739\n",
      "1        1.2257       0.085    14.362     0.000\n",
      "2        0.1478       0.148     0.997     0.319\n",
      "3       -0.6412       0.133    -4.838     0.000\n",
      "R-Square is        -0.008350503101182571\n",
      "Adjusted R Square  -0.01648236199715991\n",
      "Standard Error     0.028418570869477435\n",
      "Observations       251\n"
     ]
    }
   ],
   "source": [
    "print(myDF3)\n",
    "print('R-Square is       ',R_square)\n",
    "print('Adjusted R Square ',adj_R_square)\n",
    "print('Standard Error    ',sig)\n",
    "print('Observations      ',T)"
   ]
  },
  {
   "cell_type": "markdown",
   "metadata": {},
   "source": [
    "#   3.5 Regression Statistics of Statsmodel Library <a id='RegressionStats2'></a>"
   ]
  },
  {
   "cell_type": "code",
   "execution_count": 330,
   "metadata": {},
   "outputs": [
    {
     "name": "stdout",
     "output_type": "stream",
     "text": [
      "                            OLS Regression Results                            \n",
      "==============================================================================\n",
      "Dep. Variable:            port_excess   R-squared:                       0.169\n",
      "Model:                            OLS   Adj. R-squared:                  0.167\n",
      "Method:                 Least Squares   F-statistic:                     84.65\n",
      "Date:                Fri, 20 Mar 2020   Prob (F-statistic):           7.10e-50\n",
      "Time:                        18:37:34   Log-Likelihood:                 2813.4\n",
      "No. Observations:                1257   AIC:                            -5619.\n",
      "Df Residuals:                    1253   BIC:                            -5598.\n",
      "Df Model:                           3                                         \n",
      "Covariance Type:            nonrobust                                         \n",
      "==============================================================================\n",
      "                 coef    std err          t      P>|t|      [0.025      0.975]\n",
      "------------------------------------------------------------------------------\n",
      "Intercept      0.0002      0.001      0.333      0.739      -0.001       0.002\n",
      "mkt_excess     1.2243      0.085     14.346      0.000       1.057       1.392\n",
      "SMB            0.1490      0.148      1.005      0.315      -0.142       0.440\n",
      "HML           -0.6399      0.133     -4.829      0.000      -0.900      -0.380\n",
      "==============================================================================\n",
      "Omnibus:                      209.097   Durbin-Watson:                   2.027\n",
      "Prob(Omnibus):                  0.000   Jarque-Bera (JB):             2468.478\n",
      "Skew:                           0.367   Prob(JB):                         0.00\n",
      "Kurtosis:                       9.826   Cond. No.                         206.\n",
      "==============================================================================\n",
      "\n",
      "Warnings:\n",
      "[1] Standard Errors assume that the covariance matrix of the errors is correctly specified.\n"
     ]
    }
   ],
   "source": [
    "z=print(model.summary())"
   ]
  },
  {
   "cell_type": "markdown",
   "metadata": {},
   "source": [
    "# <p style=\"text-align: center;\">4.0 Conclusion<p><a id='Conclusion'></a>\n",
    "\n",
    "1. Both OLS Library and Linear Algebra have similar statistics. \n",
    "2. HML is not significant factor while SMB & Market excess are.\n",
    "\n",
    "[Back to top](#TableOfContents)"
   ]
  },
  {
   "cell_type": "markdown",
   "metadata": {},
   "source": [
    "# <p style=\"text-align: center;\">5.0 Contribution<p><a id='Contribution'></a>\n",
    "\n",
    "    \n",
    "- Code by self : 50%\n",
    "- Code provided by the Professor: 15%\n",
    "- Code from external Sources : 35%\n",
    "\n",
    "[Back to top](#TableOfContents)"
   ]
  },
  {
   "cell_type": "markdown",
   "metadata": {},
   "source": [
    "# <p style=\"text-align: center;\"> 6.0 Citations:<p><a id='Citation'></a>\n",
    "1. https://finance.yahoo.com/\n",
    "2. https://www.investopedia.com/terms/f/famaandfrenchthreefactormodel.asp\n",
    "3. https://corporatefinanceinstitute.com/resources/knowledge/finance/fama-french-three-factor-model/\n",
    "4. https://www.cleverism.com/fama-french-three-factor-model-guide/\n",
    "5. https://www.codingfinance.com/post/2019-07-01-analyze-ff-factor-python/\n",
    "6. https://www.eecis.udel.edu/~boncelet/ipynb/LR_NYC_Example.html\n",
    "\n",
    "[Back to top](#TableOfContents)"
   ]
  },
  {
   "cell_type": "markdown",
   "metadata": {},
   "source": [
    "# <p style=\"text-align: center;\"> 7.0 License<p><a id='License'></a>\n",
    "Copyright (c) 2019 Rushabh Nisher\n",
    "\n",
    "Permission is hereby granted, free of charge, to any person obtaining a copy of this software and associated documentation files (the \"Software\"), to deal in the Software without restriction, including without limitation the rights to use, copy, modify, merge, publish, distribute, sublicense, and/or sell copies of the Software, and to permit persons to whom the Software is furnished to do so, subject to the following conditions:\n",
    "\n",
    "The above copyright notice and this permission notice shall be included in all copies or substantial portions of the Software.\n",
    "\n",
    "THE SOFTWARE IS PROVIDED \"AS IS\", WITHOUT WARRANTY OF ANY KIND, EXPRESS OR IMPLIED, INCLUDING BUT NOT LIMITED TO THE WARRANTIES OF MERCHANTABILITY, FITNESS FOR A PARTICULAR PURPOSE AND NONINFRINGEMENT. IN NO EVENT SHALL THE AUTHORS OR COPYRIGHT HOLDERS BE LIABLE FOR ANY CLAIM, DAMAGES OR OTHER LIABILITY, WHETHER IN AN ACTION OF CONTRACT, TORT OR OTHERWISE, ARISING FROM, OUT OF OR IN CONNECTION WITH THE SOFTWARE OR THE USE OR OTHER DEALINGS IN THE SOFTWARE.\n",
    "\n",
    "[Back to top](#TableOfContents)"
   ]
  }
 ],
 "metadata": {
  "kernelspec": {
   "display_name": "Python 3",
   "language": "python",
   "name": "python3"
  },
  "language_info": {
   "codemirror_mode": {
    "name": "ipython",
    "version": 3
   },
   "file_extension": ".py",
   "mimetype": "text/x-python",
   "name": "python",
   "nbconvert_exporter": "python",
   "pygments_lexer": "ipython3",
   "version": "3.6.8"
  }
 },
 "nbformat": 4,
 "nbformat_minor": 2
}
